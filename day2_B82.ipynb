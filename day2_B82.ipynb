{
 "cells": [
  {
   "cell_type": "code",
   "execution_count": 1,
   "id": "d53e82c7",
   "metadata": {},
   "outputs": [
    {
     "ename": "SyntaxError",
     "evalue": "invalid syntax (1179000225.py, line 4)",
     "output_type": "error",
     "traceback": [
      "\u001b[1;36m  Cell \u001b[1;32mIn[1], line 4\u001b[1;36m\u001b[0m\n\u001b[1;33m    first name=\"Aniket\"\u001b[0m\n\u001b[1;37m          ^\u001b[0m\n\u001b[1;31mSyntaxError\u001b[0m\u001b[1;31m:\u001b[0m invalid syntax\n"
     ]
    }
   ],
   "source": [
    "#rules for declaring the variables\n",
    "#Rule 1:No namespaces while declaring the Variable name\n",
    "#wrong way\n",
    "first name=\"Aniket\"\n",
    "print(first name)"
   ]
  },
  {
   "cell_type": "code",
   "execution_count": 2,
   "id": "4f799958",
   "metadata": {},
   "outputs": [
    {
     "name": "stdout",
     "output_type": "stream",
     "text": [
      "Aniket\n"
     ]
    }
   ],
   "source": [
    "#right way\n",
    "first_name=\"Aniket\"\n",
    "print(first_name)"
   ]
  },
  {
   "cell_type": "code",
   "execution_count": 3,
   "id": "63c1876c",
   "metadata": {},
   "outputs": [
    {
     "ename": "SyntaxError",
     "evalue": "invalid decimal literal (2229789236.py, line 3)",
     "output_type": "error",
     "traceback": [
      "\u001b[1;36m  Cell \u001b[1;32mIn[3], line 3\u001b[1;36m\u001b[0m\n\u001b[1;33m    1name=\"aniket\"\u001b[0m\n\u001b[1;37m    ^\u001b[0m\n\u001b[1;31mSyntaxError\u001b[0m\u001b[1;31m:\u001b[0m invalid decimal literal\n"
     ]
    }
   ],
   "source": [
    "#Rule 2:A variable name should Not start with a number **\n",
    "#wrong way\n",
    "1name=\"aniket\"\n",
    "print(1name)"
   ]
  },
  {
   "cell_type": "code",
   "execution_count": 4,
   "id": "da279ccf",
   "metadata": {},
   "outputs": [
    {
     "name": "stdout",
     "output_type": "stream",
     "text": [
      "aniket\n"
     ]
    }
   ],
   "source": [
    "#Right way\n",
    "name1=\"aniket\"\n",
    "print(name1)"
   ]
  },
  {
   "cell_type": "code",
   "execution_count": 5,
   "id": "9a6e717b",
   "metadata": {},
   "outputs": [
    {
     "ename": "SyntaxError",
     "evalue": "invalid syntax (171233824.py, line 5)",
     "output_type": "error",
     "traceback": [
      "\u001b[1;36m  Cell \u001b[1;32mIn[5], line 5\u001b[1;36m\u001b[0m\n\u001b[1;33m    print(name@)\u001b[0m\n\u001b[1;37m               ^\u001b[0m\n\u001b[1;31mSyntaxError\u001b[0m\u001b[1;31m:\u001b[0m invalid syntax\n"
     ]
    }
   ],
   "source": [
    "#Rule 3:A variable should not contain any special characters\n",
    "! @ $ & #\n",
    "#Wrong Way\n",
    "name@=\"aniket\"\n",
    "print(name@)"
   ]
  },
  {
   "cell_type": "code",
   "execution_count": 6,
   "id": "40ef8f5b",
   "metadata": {},
   "outputs": [],
   "source": [
    "#Introduction to Datatypes:\n",
    "# 1. String ===> str\n",
    "# 2. Number ===> int, floats(decimal) ==> 0.1,0.2 ==> float\n",
    "# 3. List ===> list\n",
    "# 4. tuple ===> tuple\n",
    "# 5. Dictionaries ===> dict"
   ]
  },
  {
   "cell_type": "code",
   "execution_count": 7,
   "id": "9bbe8189",
   "metadata": {},
   "outputs": [
    {
     "ename": "SyntaxError",
     "evalue": "invalid syntax (2757031616.py, line 2)",
     "output_type": "error",
     "traceback": [
      "\u001b[1;36m  Cell \u001b[1;32mIn[7], line 2\u001b[1;36m\u001b[0m\n\u001b[1;33m    Broadly data types are classified into two different categeories\u001b[0m\n\u001b[1;37m            ^\u001b[0m\n\u001b[1;31mSyntaxError\u001b[0m\u001b[1;31m:\u001b[0m invalid syntax\n"
     ]
    }
   ],
   "source": [
    "#Classification of datatypes:\n",
    "Broadly data types are classified into two different categeories\n",
    "1. Mutable datatypes ===> which we can able to edit / alter ===> flexible in nature\n",
    "2. Immutable datatype ===> which we cannot able to edit / alter ===> fixed in nature"
   ]
  },
  {
   "cell_type": "code",
   "execution_count": 8,
   "id": "cb349fce",
   "metadata": {},
   "outputs": [],
   "source": [
    "#Introduction to String Datatypes:\n",
    "# Defination: A String is nothing but a series of characters declared in quotes\n",
    "# classificaion: It is an immutable datatype\n",
    "# how to define the string ===>\n",
    "# 1. single quote ===> ' '\n",
    "# 2. double quote ===> \" \""
   ]
  },
  {
   "cell_type": "code",
   "execution_count": 9,
   "id": "5d686213",
   "metadata": {},
   "outputs": [
    {
     "name": "stdout",
     "output_type": "stream",
     "text": [
      "aniket\n"
     ]
    }
   ],
   "source": [
    "#exanple 1\n",
    "a='aniket'\n",
    "print(a)"
   ]
  },
  {
   "cell_type": "code",
   "execution_count": 10,
   "id": "f9935929",
   "metadata": {},
   "outputs": [
    {
     "name": "stdout",
     "output_type": "stream",
     "text": [
      "aniket\n"
     ]
    }
   ],
   "source": [
    "#exanple 2\n",
    "a=\"aniket\"\n",
    "print(a)"
   ]
  },
  {
   "cell_type": "code",
   "execution_count": 11,
   "id": "2e2761df",
   "metadata": {},
   "outputs": [],
   "source": [
    "# <=== is used for commenting the line"
   ]
  },
  {
   "cell_type": "code",
   "execution_count": null,
   "id": "43fda891",
   "metadata": {},
   "outputs": [],
   "source": []
  }
 ],
 "metadata": {
  "kernelspec": {
   "display_name": "Python 3 (ipykernel)",
   "language": "python",
   "name": "python3"
  },
  "language_info": {
   "codemirror_mode": {
    "name": "ipython",
    "version": 3
   },
   "file_extension": ".py",
   "mimetype": "text/x-python",
   "name": "python",
   "nbconvert_exporter": "python",
   "pygments_lexer": "ipython3",
   "version": "3.11.4"
  }
 },
 "nbformat": 4,
 "nbformat_minor": 5
}
